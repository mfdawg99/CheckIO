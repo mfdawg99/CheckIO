{
 "cells": [
  {
   "cell_type": "code",
   "execution_count": 35,
   "metadata": {
    "collapsed": true
   },
   "outputs": [],
   "source": [
    "import math"
   ]
  },
  {
   "cell_type": "code",
   "execution_count": 66,
   "metadata": {
    "collapsed": true
   },
   "outputs": [],
   "source": [
    "matrix = [[2, 1, 0, 6, 1],\n",
    "          [1, 2, 0, 1, 1],\n",
    "          [4, 1, 2, 3, 1],\n",
    "          [0, 1, 0, 2, 4],\n",
    "          [1, 1, 3, 1, 1]]\n",
    "\n",
    "matrix2 = [[1,7,6,1,8,5,1],\n",
    "           [7,9,1,7,2,8,6],\n",
    "           [5,1,4,5,8,8,3],\n",
    "           [8,6,3,9,7,6,9],\n",
    "           [9,8,9,8,6,8,2],\n",
    "           [1,7,2,4,9,3,8],\n",
    "           [9,9,8,6,9,2,6]]"
   ]
  },
  {
   "cell_type": "code",
   "execution_count": 67,
   "metadata": {
    "collapsed": true
   },
   "outputs": [],
   "source": [
    "def checkio(matrix):\n",
    "    '''\n",
    "    Find a sequence of more than 4 of the same integers\n",
    "    in horizontal, vertical, or diagonal\n",
    "    '''\n",
    "    flat = [j for i in matrix for j in i]\n",
    "#     print(flat)\n",
    "    flat_len = len(flat)    \n",
    "    flat_set = set(flat)\n",
    "    flat_sq = int(math.sqrt(len(flat)))\n",
    "    flat_sqminus = flat_sq - 1\n",
    "    flat_sqplus = flat_sq + 1\n",
    "    results = [] \n",
    "    \n",
    "    for val in flat_set:\n",
    "        if flat.count(val) >= 4: \n",
    "            for x in range(0,len(flat),flat_sq): # Horizontal\n",
    "                horiz = flat[x:x+flat_sq:]\n",
    "                if horiz.count(val) == flat_sq:\n",
    "                    results.append(True)\n",
    "            for y in range(0,flat_sq): # Vertical\n",
    "                vert = flat[y:len(flat):flat_sq]\n",
    "                if vert.count(val) == flat_sq:\n",
    "                     results.append(True)\n",
    "            temp = [i for i, num in enumerate(flat) if num==val] # Gets index of matches\n",
    "            temp2 = [temp[i+1]-temp[i] for i in range(len(temp)-1)] # Get differences between index\n",
    "            temp_dist = [i for i in temp2 if i == flat_sq+1] #Negative slope\n",
    "            temp_dist2 = [i for i in temp2 if i == flat_sq-1] #Pos slope\n",
    "            if len(temp_dist) >= 3 or len(temp_dist2) >= 3: # Diagonal\n",
    "                results.append(True)\n",
    "\n",
    "    return any(results)"
   ]
  },
  {
   "cell_type": "code",
   "execution_count": 68,
   "metadata": {},
   "outputs": [
    {
     "data": {
      "text/plain": [
       "True"
      ]
     },
     "execution_count": 68,
     "metadata": {},
     "output_type": "execute_result"
    }
   ],
   "source": [
    "checkio(matrix2)"
   ]
  },
  {
   "cell_type": "markdown",
   "metadata": {},
   "source": [
    "## Problem Breakdown"
   ]
  },
  {
   "cell_type": "code",
   "execution_count": 69,
   "metadata": {},
   "outputs": [],
   "source": [
    "def checkio(matrix):\n",
    "    '''\n",
    "    Find a sequence of more than 4 of the same integers\n",
    "    in horizontal, vertical, or diagonal\n",
    "    '''\n",
    "    flat = [j for i in matrix for j in i]\n",
    "#     print(flat)\n",
    "    flat_len = len(flat)    \n",
    "    flat_set = set(flat)\n",
    "    flat_sq = int(math.sqrt(len(flat)))\n",
    "    flat_sqminus = flat_sq - 1\n",
    "    flat_sqplus = flat_sq + 1\n",
    "    results = [] \n",
    "    \n",
    "    for val in flat_set:\n",
    "        if flat.count(val) >= 4: \n",
    "            print(val)\n",
    "            for x in range(0,len(flat),flat_sq): # Horizontal\n",
    "                horiz = flat[x:x+flat_sq:]\n",
    "#                 print(horiz)\n",
    "                if horiz.count(val) == flat_sq:\n",
    "#                     print(horiz.count(val))\n",
    "#                     print(horiz.count(val))\n",
    "                    results.append(True)\n",
    "\n",
    "            for y in range(0,flat_sq): # Vertical\n",
    "                vert = flat[y:len(flat):flat_sq]\n",
    "                if vert.count(val) == flat_sq:\n",
    "                     results.append(True)\n",
    "\n",
    "                        \n",
    "            temp = [i for i, num in enumerate(flat) if num==val] # Gets index of matches\n",
    "            print('Index locations: ', temp)\n",
    "            temp2 = [temp[i+1]-temp[i] for i in range(len(temp)-1)] # Get differences between index\n",
    "            print(\"Index of differences: \", temp2)\n",
    "            temp_dist = [i for i in temp2 if i == flat_sq+1] #Negative slope\n",
    "            print(\"Differences (Neg): \", temp_dist)\n",
    "            temp_dist2 = [i for i in temp2 if i == flat_sq-1] #Pos slope\n",
    "#             print(\"Differences (Pos): \", temp_dist2)\n",
    "\n",
    "            if len(temp_dist) >= 3 or len(temp_dist2) >= 3: # Diagonal\n",
    "                results.append(True)\n",
    "\n",
    "    return any(results)"
   ]
  },
  {
   "cell_type": "code",
   "execution_count": 70,
   "metadata": {
    "collapsed": true
   },
   "outputs": [
    {
     "name": "stdout",
     "output_type": "stream",
     "text": [
      "1\n",
      "Index locations:  [0, 3, 6, 9, 15, 35]\n",
      "Index of differences:  [3, 3, 3, 6, 20]\n",
      "Differences (Neg):  []\n",
      "2\n",
      "Index locations:  [11, 34, 37, 47]\n",
      "Index of differences:  [23, 3, 10]\n",
      "Differences (Neg):  []\n",
      "6\n",
      "Index locations:  [2, 13, 22, 26, 32, 45, 48]\n",
      "Index of differences:  [11, 9, 4, 6, 13, 3]\n",
      "Differences (Neg):  []\n",
      "7\n",
      "Index locations:  [1, 7, 10, 25, 36]\n",
      "Index of differences:  [6, 3, 15, 11]\n",
      "Differences (Neg):  []\n",
      "8\n",
      "Index locations:  [4, 12, 18, 19, 21, 29, 31, 33, 41, 44]\n",
      "Index of differences:  [8, 6, 1, 2, 8, 2, 2, 8, 3]\n",
      "Differences (Neg):  [8, 8, 8]\n",
      "9\n",
      "Index locations:  [8, 24, 27, 28, 30, 39, 42, 43, 46]\n",
      "Index of differences:  [16, 3, 1, 2, 9, 3, 1, 3]\n",
      "Differences (Neg):  []\n"
     ]
    },
    {
     "data": {
      "text/plain": [
       "True"
      ]
     },
     "execution_count": 70,
     "metadata": {},
     "output_type": "execute_result"
    }
   ],
   "source": [
    "checkio(matrix2)"
   ]
  },
  {
   "cell_type": "code",
   "execution_count": null,
   "metadata": {
    "collapsed": true
   },
   "outputs": [],
   "source": []
  }
 ],
 "metadata": {
  "kernelspec": {
   "display_name": "Python 3",
   "language": "python",
   "name": "python3"
  },
  "language_info": {
   "codemirror_mode": {
    "name": "ipython",
    "version": 3
   },
   "file_extension": ".py",
   "mimetype": "text/x-python",
   "name": "python",
   "nbconvert_exporter": "python",
   "pygments_lexer": "ipython3",
   "version": "3.6.3"
  }
 },
 "nbformat": 4,
 "nbformat_minor": 2
}
