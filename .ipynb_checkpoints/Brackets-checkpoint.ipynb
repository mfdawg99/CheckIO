{
 "cells": [
  {
   "cell_type": "code",
   "execution_count": 169,
   "metadata": {},
   "outputs": [
    {
     "data": {
      "text/plain": [
       "'“Great!” Exclaimed Sofia. “Now we have the password.”\\n\\n“To what exactly?” Quipped Nikola.\\n\\n“Untold treasures, vast riches beyond belief! Gold! Silver! Silicon! Hydraulic Fluid! Anything your heart desires!”\\n\\n“And you’re going to do what with a password to absolutely nothing?” Nikola smirked.\\n\\n“Oh... Right...”\\n\\nStephen spoke up. “Well, this door back here has a keypad. Only thing is the brackets look pretty busted up. We could try fixing it and then punching in the password?”\\n\\n“YES! That!” Sofia exclaimed.\\n\\nYou are given an expression with numbers, brackets and operators. For this task only the brackets matter. Brackets come in three flavors: \"{}\" \"()\" or \"[]\". Brackets are used to determine scope or to restrict some expression. If a bracket is open, then it must be closed with a closing bracket of the same type. The scope of a bracket must not intersected by another bracket. In this task you should make a decision, whether to correct an expression or not based on the brackets. Do not worry about operators and operands.\\n\\nInput: An expression with different of types brackets as a string (unicode).\\n\\nOutput: A verdict on the correctness of the expression in boolean (True or False).\\n\\nExample:\\n\\ncheckio(\"((5+3)*2+1)\") == True\\ncheckio(\"{[(3+1)+2]+}\") == True\\ncheckio(\"(3+{1-1)}\") == False\\ncheckio(\"[1+1]+(2*2)-{3/3}\") == True\\ncheckio(\"(({[(((1)-2)+3)-3]/3}-3)\") == False\\ncheckio(\"2+3\") == True\\n1\\n2\\n3\\n4\\n5\\n6\\nHow it is used: When you write code or complex expressions in a mathematical package, you can get a huge headache when it comes to excess or missing brackets. This concept can be useful for your own IDE.\\n\\nPrecondition: \\nThere are only brackets (\"{}\" \"()\" or \"[]\"), digits or operators (\"+\" \"-\" \"*\" \"/\").\\n0 < len(expression) < 103'"
      ]
     },
     "execution_count": 169,
     "metadata": {},
     "output_type": "execute_result"
    }
   ],
   "source": [
    "'''“Great!” Exclaimed Sofia. “Now we have the password.”\n",
    "\n",
    "“To what exactly?” Quipped Nikola.\n",
    "\n",
    "“Untold treasures, vast riches beyond belief! Gold! Silver! Silicon! Hydraulic Fluid! Anything your heart desires!”\n",
    "\n",
    "“And you’re going to do what with a password to absolutely nothing?” Nikola smirked.\n",
    "\n",
    "“Oh... Right...”\n",
    "\n",
    "Stephen spoke up. “Well, this door back here has a keypad. Only thing is the brackets look pretty busted up. We could try fixing it and then punching in the password?”\n",
    "\n",
    "“YES! That!” Sofia exclaimed.\n",
    "\n",
    "You are given an expression with numbers, brackets and operators. For this task only the brackets matter. Brackets come in three flavors: \"{}\" \"()\" or \"[]\". Brackets are used to determine scope or to restrict some expression. If a bracket is open, then it must be closed with a closing bracket of the same type. The scope of a bracket must not intersected by another bracket. In this task you should make a decision, whether to correct an expression or not based on the brackets. Do not worry about operators and operands.\n",
    "\n",
    "Input: An expression with different of types brackets as a string (unicode).\n",
    "\n",
    "Output: A verdict on the correctness of the expression in boolean (True or False).\n",
    "\n",
    "Example:\n",
    "\n",
    "checkio(\"((5+3)*2+1)\") == True\n",
    "checkio(\"{[(3+1)+2]+}\") == True\n",
    "checkio(\"(3+{1-1)}\") == False\n",
    "checkio(\"[1+1]+(2*2)-{3/3}\") == True\n",
    "checkio(\"(({[(((1)-2)+3)-3]/3}-3)\") == False\n",
    "checkio(\"2+3\") == True\n",
    "1\n",
    "2\n",
    "3\n",
    "4\n",
    "5\n",
    "6\n",
    "How it is used: When you write code or complex expressions in a mathematical package, you can get a huge headache when it comes to excess or missing brackets. This concept can be useful for your own IDE.\n",
    "\n",
    "Precondition: \n",
    "There are only brackets (\"{}\" \"()\" or \"[]\"), digits or operators (\"+\" \"-\" \"*\" \"/\").\n",
    "0 < len(expression) < 103'''"
   ]
  },
  {
   "cell_type": "code",
   "execution_count": 370,
   "metadata": {
    "collapsed": true
   },
   "outputs": [],
   "source": [
    "list1 = \"(())\"\n",
    "list2 = \"{[()]}\"\n",
    "list3 = \"({)}\"\n",
    "list4 = \"[](){}\"\n",
    "list5 = \"(({[((()))]})\""
   ]
  },
  {
   "cell_type": "code",
   "execution_count": 417,
   "metadata": {
    "collapsed": true
   },
   "outputs": [],
   "source": [
    "# Check for correct amount of brackets and closures\n",
    "def checkio(some_list):\n",
    "    l = ['{','(','[']\n",
    "    r = ['}',')',']']\n",
    "    pars = ['(',')']\n",
    "    brak = ['{','}']\n",
    "    brac = ['[',']']\n",
    "    \n",
    "    pars_depth = 0\n",
    "    bracks_depth = 0\n",
    "    braces_depth = 0\n",
    "    \n",
    "    val = [x for x in some_list if x in l or x in r]\n",
    "    \n",
    "    if len(val) % 2 != 0: #Check for non even case\n",
    "        return False    \n",
    "    cur_scope = []\n",
    "    \n",
    "    for x in range(0,len(val)): #Iterate through brackets\n",
    "        if val[x] in l: # Left\n",
    "            if val[x] in pars:\n",
    "                pars_depth += 1\n",
    "                cur_scope.append('PAR')\n",
    "            elif val[x] in brac:\n",
    "                braces_depth += 1\n",
    "                cur_scope.append('BRC')\n",
    "            elif val[x] in brak:\n",
    "                bracks_depth += 1\n",
    "                cur_scope.append('BRK')                \n",
    "        elif val[x] in r: # Right\n",
    "            test = cur_scope.pop()\n",
    "            if val[x] in pars and test == 'PAR':\n",
    "                pars_depth -= 1  \n",
    "            elif val[x] in brac and test == 'BRC':\n",
    "                braces_depth -= 1\n",
    "            elif val[x] in brak and test == 'BRK':\n",
    "                bracks_depth -= 1\n",
    "            else:\n",
    "                return False\n",
    "        else:\n",
    "            return False\n",
    "    return not (pars_depth and bracks_depth and braces_depth)\n"
   ]
  },
  {
   "cell_type": "code",
   "execution_count": 418,
   "metadata": {},
   "outputs": [
    {
     "data": {
      "text/plain": [
       "False"
      ]
     },
     "execution_count": 418,
     "metadata": {},
     "output_type": "execute_result"
    }
   ],
   "source": [
    "checkio(list5)"
   ]
  },
  {
   "cell_type": "code",
   "execution_count": null,
   "metadata": {
    "collapsed": true
   },
   "outputs": [],
   "source": [
    "#     assert checkio(\"(())\") == True, \"Simple\"\n",
    "#     assert checkio(\"{[()]}\") == True, \"Different types\"\n",
    "#     assert checkio(\"({)}\") == False, \") is alone inside {}\"\n",
    "#     assert checkio(\"[](){}\") == True, \"Different operators\"\n",
    "#     assert checkio(\"(({[((()))]})\") == False, \"One is redundant\"\n",
    "#     assert checkio(\"2+3\") == True, \"No brackets, no problem\""
   ]
  },
  {
   "cell_type": "code",
   "execution_count": 367,
   "metadata": {
    "collapsed": true
   },
   "outputs": [],
   "source": [
    "list1 = \"(())\"\n",
    "list2 = \"{[()]}\"\n",
    "list3 = \"({)}\"\n",
    "list4 = \"[](){}\"\n",
    "list5 = \"(({[((()))]})\"\n",
    "\n",
    "val = [x for x in list3 if x in l or x in r]\n",
    "mid = len(val)//2 # Find midpoint\n",
    "L = val[0:mid:] # Get list of front half\n",
    "R = val[:mid-1:-1] # Get list of second half"
   ]
  },
  {
   "cell_type": "code",
   "execution_count": 368,
   "metadata": {},
   "outputs": [
    {
     "name": "stdout",
     "output_type": "stream",
     "text": [
      "1\n",
      "3\n",
      "[]\n",
      "[]\n",
      "['{', '}']\n"
     ]
    }
   ],
   "source": [
    "ls = ['{','(','[']\n",
    "rs = ['}',')',']']\n",
    "par = ['(',')']\n",
    "brace = ['[',']']\n",
    "brack = ['{','}']\n",
    "lp = '('\n",
    "rp = ')'\n",
    "lk = '['\n",
    "rk = ']'\n",
    "lc = '{'\n",
    "rc = '}'\n",
    "\n",
    "pars = []\n",
    "bracks = []\n",
    "braces = []\n",
    "\n",
    "for x in range(1,len(val),2):\n",
    "\n",
    "    if val[x-1] in ls.index(val[x-1]) and val[x] in rs\n",
    "        \n",
    "    \n",
    "    \n",
    "    if val[x] in par:\n",
    "        pars.append(val[x])\n",
    "    elif val[x] in brace:\n",
    "        braces.append(val[x])\n",
    "    elif val[x] in brack:\n",
    "        bracks.append(val[x])\n",
    "    print(x)\n",
    "        \n",
    "        \n",
    "        \n",
    "        \n",
    "\n",
    "print(pars)\n",
    "print(braces)\n",
    "print(bracks)\n",
    "        \n",
    "        "
   ]
  },
  {
   "cell_type": "code",
   "execution_count": null,
   "metadata": {
    "collapsed": true
   },
   "outputs": [],
   "source": []
  }
 ],
 "metadata": {
  "kernelspec": {
   "display_name": "Python 3",
   "language": "python",
   "name": "python3"
  },
  "language_info": {
   "codemirror_mode": {
    "name": "ipython",
    "version": 3
   },
   "file_extension": ".py",
   "mimetype": "text/x-python",
   "name": "python",
   "nbconvert_exporter": "python",
   "pygments_lexer": "ipython3",
   "version": "3.6.1"
  }
 },
 "nbformat": 4,
 "nbformat_minor": 2
}
