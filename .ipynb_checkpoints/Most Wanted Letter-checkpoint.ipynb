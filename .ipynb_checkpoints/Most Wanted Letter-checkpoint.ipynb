{
 "cells": [
  {
   "cell_type": "markdown",
   "metadata": {},
   "source": [
    "## Most Wanted Letter"
   ]
  },
  {
   "cell_type": "code",
   "execution_count": 96,
   "metadata": {},
   "outputs": [
    {
     "data": {
      "text/plain": [
       "'You are given a text, which contains different english letters and punctuation symbols. You should find the most frequent letter in the text. The letter returned must be in lower case.\\nWhile checking for the most wanted letter, casing does not matter, so for the purpose of your search, \"A\" == \"a\". Make sure you do not count punctuation symbols, digits and whitespaces, only letters.\\n\\nIf you have two or more letters with the same frequency, then return the letter which comes first in the latin alphabet. For example -- \"one\" contains \"o\", \"n\", \"e\" only once for each, thus we choose \"e\".\\n\\nInput: A text for analysis as a string.\\n\\nOutput: The most frequent letter in lower case as a string.\\n\\nExample:\\n\\ncheckio(\"Hello World!\") == \"l\"\\ncheckio(\"How do you do?\") == \"o\"\\ncheckio(\"One\") == \"e\"\\ncheckio(\"Oops!\") == \"o\"\\ncheckio(\"AAaooo!!!!\") == \"a\"\\ncheckio(\"abe\") == \"a\"\\n1\\n2\\n3\\n4\\n5\\n6\\nHow it is used: For most decryption tasks you need to know the frequency of occurrence for various letters in a section of text. For example: we can easily crack a simple addition or substitution cipher if we know the frequency in which letters appear. This is interesting stuff for language experts!\\n\\nPrecondition:\\nA text contains only ASCII symbols.\\n0 < len(text) ≤ 105'"
      ]
     },
     "execution_count": 96,
     "metadata": {},
     "output_type": "execute_result"
    }
   ],
   "source": [
    "'''You are given a text, which contains different english letters and punctuation symbols. You should find the most frequent letter in the text. The letter returned must be in lower case.\n",
    "While checking for the most wanted letter, casing does not matter, so for the purpose of your search, \"A\" == \"a\". Make sure you do not count punctuation symbols, digits and whitespaces, only letters.\n",
    "\n",
    "If you have two or more letters with the same frequency, then return the letter which comes first in the latin alphabet. For example -- \"one\" contains \"o\", \"n\", \"e\" only once for each, thus we choose \"e\".\n",
    "\n",
    "Input: A text for analysis as a string.\n",
    "\n",
    "Output: The most frequent letter in lower case as a string.\n",
    "\n",
    "Example:\n",
    "\n",
    "checkio(\"Hello World!\") == \"l\"\n",
    "checkio(\"How do you do?\") == \"o\"\n",
    "checkio(\"One\") == \"e\"\n",
    "checkio(\"Oops!\") == \"o\"\n",
    "checkio(\"AAaooo!!!!\") == \"a\"\n",
    "checkio(\"abe\") == \"a\"\n",
    "1\n",
    "2\n",
    "3\n",
    "4\n",
    "5\n",
    "6\n",
    "How it is used: For most decryption tasks you need to know the frequency of occurrence for various letters in a section of text. For example: we can easily crack a simple addition or substitution cipher if we know the frequency in which letters appear. This is interesting stuff for language experts!\n",
    "\n",
    "Precondition:\n",
    "A text contains only ASCII symbols.\n",
    "0 < len(text) ≤ 105'''"
   ]
  },
  {
   "cell_type": "code",
   "execution_count": 78,
   "metadata": {
    "collapsed": true
   },
   "outputs": [],
   "source": [
    "import re\n",
    "from collections import Counter"
   ]
  },
  {
   "cell_type": "code",
   "execution_count": 92,
   "metadata": {},
   "outputs": [],
   "source": [
    "def checkio(text):\n",
    "    word1 = sorted(list(\" \".replace(\" \",\"\").join(re.findall(\"[a-zA-Z]+\", text.lower()))))\n",
    "    c = Counter(word1)\n",
    "    return c.most_common(1)[0][0]"
   ]
  }
 ],
 "metadata": {
  "kernelspec": {
   "display_name": "Python 3",
   "language": "python",
   "name": "python3"
  },
  "language_info": {
   "codemirror_mode": {
    "name": "ipython",
    "version": 3
   },
   "file_extension": ".py",
   "mimetype": "text/x-python",
   "name": "python",
   "nbconvert_exporter": "python",
   "pygments_lexer": "ipython3",
   "version": "3.6.1"
  }
 },
 "nbformat": 4,
 "nbformat_minor": 2
}
