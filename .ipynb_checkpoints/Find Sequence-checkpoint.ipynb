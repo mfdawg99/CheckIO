{
 "cells": [
  {
   "cell_type": "code",
   "execution_count": 7,
   "metadata": {
    "collapsed": true
   },
   "outputs": [],
   "source": [
    "import math"
   ]
  },
  {
   "cell_type": "code",
   "execution_count": 11,
   "metadata": {
    "collapsed": true
   },
   "outputs": [],
   "source": [
    "matrix = [[2, 1, 1, 6, 1],\n",
    "          [1, 2, 2, 1, 1],\n",
    "          [4, 1, 2, 3, 1],\n",
    "          [0, 1, 2, 2, 4],\n",
    "          [1, 1, 3, 1, 1]\n",
    "    ]\n"
   ]
  },
  {
   "cell_type": "code",
   "execution_count": 12,
   "metadata": {
    "collapsed": true
   },
   "outputs": [],
   "source": [
    "def checkio(matrix):\n",
    "    '''\n",
    "    Find a sequence of more than 4 of the same integers\n",
    "    in horizontal, vertical, or diagonal\n",
    "    '''\n",
    "    flat = [j for i in matrix for j in i]\n",
    "    flat_len = len(flat)    \n",
    "    flat_set = set(flat)\n",
    "    flat_sq = int(math.sqrt(len(flat)))\n",
    "    flat_sqminus = flat_sq - 1\n",
    "    flat_sqplus = flat_sq + 1\n",
    "    results = [] \n",
    "    \n",
    "    for val in flat_set:\n",
    "        if flat.count(val) >= 4: \n",
    "            for x in range(0,len(flat),flat_sq): # Horizontal\n",
    "                horiz = flat[x:x+flat_sq:]\n",
    "                print(horiz)\n",
    "                if horiz.count(val) == flat_sq:\n",
    "                    print(horiz.count(val))\n",
    "                    print(horiz.count(val))\n",
    "                    results.append(True)\n",
    "\n",
    "            for y in range(0,flat_sq): # Vertical\n",
    "                vert = flat[y:len(flat):flat_sq]\n",
    "                if vert.count(val) == flat_sq:\n",
    "                     results.append(True)\n",
    "\n",
    "            temp = [i for i, num in enumerate(flat) if num==val] # Gets index of matches\n",
    "            temp2 = [temp[i+1]-temp[i] for i in range(len(temp)-1)] # Get differences between index\n",
    "            temp_dist = [i for i in temp2 if i == flat_sq+1] #Negative slope\n",
    "            temp_dist2 = [i for i in temp2 if i == flat_sq-1] #Pos slope\n",
    "\n",
    "            if len(temp_dist) >= 3 or len(temp_dist2) >= 3: # Diagonal\n",
    "                results.append(True)\n",
    "\n",
    "    return any(results)"
   ]
  },
  {
   "cell_type": "code",
   "execution_count": 13,
   "metadata": {},
   "outputs": [
    {
     "name": "stdout",
     "output_type": "stream",
     "text": [
      "[2, 1, 1, 6, 1]\n",
      "[1, 3, 2, 1, 1]\n",
      "[4, 1, 1, 3, 1]\n",
      "[0, 1, 2, 3, 4]\n",
      "[1, 1, 3, 1, 1]\n",
      "[2, 1, 1, 6, 1]\n",
      "[1, 3, 2, 1, 1]\n",
      "[4, 1, 1, 3, 1]\n",
      "[0, 1, 2, 3, 4]\n",
      "[1, 1, 3, 1, 1]\n"
     ]
    },
    {
     "data": {
      "text/plain": [
       "False"
      ]
     },
     "execution_count": 13,
     "metadata": {},
     "output_type": "execute_result"
    }
   ],
   "source": [
    "checkio(matrix)"
   ]
  },
  {
   "cell_type": "markdown",
   "metadata": {},
   "source": [
    "## Problem Breakdown"
   ]
  },
  {
   "cell_type": "code",
   "execution_count": 5,
   "metadata": {},
   "outputs": [
    {
     "name": "stdout",
     "output_type": "stream",
     "text": [
      "Index of matches:  [0, 7, 14, 21]\n",
      "Index of differences:  [7, 7, 7]\n",
      "Differences (Neg):  [7, 7, 7]\n",
      "Differences (Pos):  []\n",
      "Diagonal Matches\n"
     ]
    }
   ],
   "source": [
    "import math\n",
    "matrix = [[1, 2, 3, 4, 5, 6],\n",
    "          [7, 1, 9, 10, 11, 12],\n",
    "          [13, 14, 1, 16, 17, 18],\n",
    "          [19, 20, 22, 1, 24, 25],\n",
    "          [26, 27, 28, 29, 30, 31],\n",
    "          [32, 33, 34, 35, 36, 37]]\n",
    "\n",
    "flat = [j for i in matrix for j in i]\n",
    "flat_len = len(flat)    \n",
    "flat_set = set(flat)\n",
    "flat_sq = int(math.sqrt(len(flat)))\n",
    "flat_sqminus = flat_sq - 1\n",
    "flat_sqplus = flat_sq + 1\n",
    "val = 1\n",
    "\n",
    "if flat.count(val) >= 4: \n",
    "    for x in range(0,len(flat),flat_sq): # Horizontal\n",
    "        horiz = flat[x:x+flat_sq:]\n",
    "        if horiz.count(val) == flat_sq:\n",
    "            print('Horizontal Match Row: ', x)\n",
    "    for y in range(0,flat_sq): # Vertical\n",
    "        vert = flat[y:len(flat):flat_sq]\n",
    "        if vert.count(val) == flat_sq:\n",
    "            print('Vertical Match Col: ', y)\n",
    "\n",
    "    temp = [i for i, num in enumerate(flat) if num==val] # Gets index of matches\n",
    "    print(\"Index of matches: \", temp)\n",
    "    \n",
    "    temp2 = [temp[i+1]-temp[i] for i in range(len(temp)-1)] # Get differences between index\n",
    "    print(\"Index of differences: \", temp2)\n",
    "    \n",
    "    temp_dist = [i for i in temp2 if i == flat_sq+1] #Negative slope\n",
    "    print(\"Differences (Neg): \", temp_dist)\n",
    "    \n",
    "    temp_dist2 = [i for i in temp2 if i == flat_sq-1] #Pos slope\n",
    "    print(\"Differences (Pos): \", temp_dist2)\n",
    "    \n",
    "    if len(temp_dist) >= 3 or len(temp_dist2) >= 3: # Diagonal\n",
    "        print('Diagonal Matches')\n"
   ]
  },
  {
   "cell_type": "code",
   "execution_count": null,
   "metadata": {
    "collapsed": true
   },
   "outputs": [],
   "source": []
  },
  {
   "cell_type": "code",
   "execution_count": null,
   "metadata": {
    "collapsed": true
   },
   "outputs": [],
   "source": []
  }
 ],
 "metadata": {
  "kernelspec": {
   "display_name": "Python 3",
   "language": "python",
   "name": "python3"
  },
  "language_info": {
   "codemirror_mode": {
    "name": "ipython",
    "version": 3
   },
   "file_extension": ".py",
   "mimetype": "text/x-python",
   "name": "python",
   "nbconvert_exporter": "python",
   "pygments_lexer": "ipython3",
   "version": "3.6.3"
  }
 },
 "nbformat": 4,
 "nbformat_minor": 2
}
